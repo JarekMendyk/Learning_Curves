{
 "cells": [
  {
   "cell_type": "markdown",
   "metadata": {},
   "source": [
    "# Plot learning curves in python"
   ]
  },
  {
   "cell_type": "code",
   "execution_count": 61,
   "metadata": {},
   "outputs": [],
   "source": [
    "%matplotlib inline\n",
    "import matplotlib.pyplot as plt\n",
    "import numpy as np\n",
    "import pandas as pd\n",
    "\n",
    "data = pd.read_csv(\"C:\\\\Users\\\\jarek\\\\Documents\\\\GitHub\\\\Learning_Curves\\\\learning_curve_data.txt\", sep = ';')"
   ]
  },
  {
   "cell_type": "code",
   "execution_count": 63,
   "metadata": {},
   "outputs": [
    {
     "data": {
      "text/html": [
       "<div>\n",
       "<style scoped>\n",
       "    .dataframe tbody tr th:only-of-type {\n",
       "        vertical-align: middle;\n",
       "    }\n",
       "\n",
       "    .dataframe tbody tr th {\n",
       "        vertical-align: top;\n",
       "    }\n",
       "\n",
       "    .dataframe thead th {\n",
       "        text-align: right;\n",
       "    }\n",
       "</style>\n",
       "<table border=\"1\" class=\"dataframe\">\n",
       "  <thead>\n",
       "    <tr style=\"text-align: right;\">\n",
       "      <th></th>\n",
       "      <th>year</th>\n",
       "      <th>month</th>\n",
       "      <th>week_of_year</th>\n",
       "      <th>day_of_week</th>\n",
       "      <th>traffic</th>\n",
       "      <th>outdoor</th>\n",
       "      <th>radio</th>\n",
       "      <th>internet</th>\n",
       "      <th>komunikacja</th>\n",
       "      <th>event</th>\n",
       "      <th>temp</th>\n",
       "      <th>cisnienie</th>\n",
       "    </tr>\n",
       "  </thead>\n",
       "  <tbody>\n",
       "    <tr>\n",
       "      <th>count</th>\n",
       "      <td>930.000000</td>\n",
       "      <td>930.000000</td>\n",
       "      <td>930.000000</td>\n",
       "      <td>930.000000</td>\n",
       "      <td>930.000000</td>\n",
       "      <td>930.000000</td>\n",
       "      <td>930.000000</td>\n",
       "      <td>930.000000</td>\n",
       "      <td>930.000000</td>\n",
       "      <td>930.000000</td>\n",
       "      <td>930.000000</td>\n",
       "      <td>930.000000</td>\n",
       "    </tr>\n",
       "    <tr>\n",
       "      <th>mean</th>\n",
       "      <td>2015.869892</td>\n",
       "      <td>6.012903</td>\n",
       "      <td>24.233333</td>\n",
       "      <td>3.983871</td>\n",
       "      <td>19763.752688</td>\n",
       "      <td>674.225129</td>\n",
       "      <td>247.887796</td>\n",
       "      <td>195.796462</td>\n",
       "      <td>23.579484</td>\n",
       "      <td>1111.814925</td>\n",
       "      <td>14.566667</td>\n",
       "      <td>1003.152355</td>\n",
       "    </tr>\n",
       "    <tr>\n",
       "      <th>std</th>\n",
       "      <td>0.778656</td>\n",
       "      <td>3.305383</td>\n",
       "      <td>14.263640</td>\n",
       "      <td>1.989412</td>\n",
       "      <td>3020.526456</td>\n",
       "      <td>241.612164</td>\n",
       "      <td>455.176333</td>\n",
       "      <td>377.105117</td>\n",
       "      <td>74.880876</td>\n",
       "      <td>5545.313772</td>\n",
       "      <td>9.185703</td>\n",
       "      <td>8.330808</td>\n",
       "    </tr>\n",
       "    <tr>\n",
       "      <th>min</th>\n",
       "      <td>2015.000000</td>\n",
       "      <td>1.000000</td>\n",
       "      <td>1.000000</td>\n",
       "      <td>1.000000</td>\n",
       "      <td>9901.000000</td>\n",
       "      <td>0.000000</td>\n",
       "      <td>0.000000</td>\n",
       "      <td>0.000000</td>\n",
       "      <td>0.000000</td>\n",
       "      <td>0.000000</td>\n",
       "      <td>-7.000000</td>\n",
       "      <td>971.920000</td>\n",
       "    </tr>\n",
       "    <tr>\n",
       "      <th>25%</th>\n",
       "      <td>2015.000000</td>\n",
       "      <td>3.000000</td>\n",
       "      <td>12.000000</td>\n",
       "      <td>2.000000</td>\n",
       "      <td>18897.000000</td>\n",
       "      <td>525.810000</td>\n",
       "      <td>0.000000</td>\n",
       "      <td>0.000000</td>\n",
       "      <td>0.000000</td>\n",
       "      <td>0.000000</td>\n",
       "      <td>7.000000</td>\n",
       "      <td>998.250000</td>\n",
       "    </tr>\n",
       "    <tr>\n",
       "      <th>50%</th>\n",
       "      <td>2016.000000</td>\n",
       "      <td>6.000000</td>\n",
       "      <td>24.000000</td>\n",
       "      <td>4.000000</td>\n",
       "      <td>20336.500000</td>\n",
       "      <td>676.130000</td>\n",
       "      <td>0.000000</td>\n",
       "      <td>0.000000</td>\n",
       "      <td>0.000000</td>\n",
       "      <td>483.870000</td>\n",
       "      <td>14.000000</td>\n",
       "      <td>1003.250000</td>\n",
       "    </tr>\n",
       "    <tr>\n",
       "      <th>75%</th>\n",
       "      <td>2016.000000</td>\n",
       "      <td>9.000000</td>\n",
       "      <td>35.000000</td>\n",
       "      <td>6.000000</td>\n",
       "      <td>21485.750000</td>\n",
       "      <td>801.000000</td>\n",
       "      <td>441.980000</td>\n",
       "      <td>399.960000</td>\n",
       "      <td>0.000000</td>\n",
       "      <td>953.467500</td>\n",
       "      <td>22.000000</td>\n",
       "      <td>1008.590000</td>\n",
       "    </tr>\n",
       "    <tr>\n",
       "      <th>max</th>\n",
       "      <td>2017.000000</td>\n",
       "      <td>12.000000</td>\n",
       "      <td>53.000000</td>\n",
       "      <td>7.000000</td>\n",
       "      <td>29396.000000</td>\n",
       "      <td>1396.450000</td>\n",
       "      <td>2352.320000</td>\n",
       "      <td>5778.180000</td>\n",
       "      <td>264.000000</td>\n",
       "      <td>80500.000000</td>\n",
       "      <td>36.000000</td>\n",
       "      <td>1028.250000</td>\n",
       "    </tr>\n",
       "  </tbody>\n",
       "</table>\n",
       "</div>"
      ],
      "text/plain": [
       "              year       month  week_of_year  day_of_week       traffic  \\\n",
       "count   930.000000  930.000000    930.000000   930.000000    930.000000   \n",
       "mean   2015.869892    6.012903     24.233333     3.983871  19763.752688   \n",
       "std       0.778656    3.305383     14.263640     1.989412   3020.526456   \n",
       "min    2015.000000    1.000000      1.000000     1.000000   9901.000000   \n",
       "25%    2015.000000    3.000000     12.000000     2.000000  18897.000000   \n",
       "50%    2016.000000    6.000000     24.000000     4.000000  20336.500000   \n",
       "75%    2016.000000    9.000000     35.000000     6.000000  21485.750000   \n",
       "max    2017.000000   12.000000     53.000000     7.000000  29396.000000   \n",
       "\n",
       "           outdoor        radio     internet  komunikacja         event  \\\n",
       "count   930.000000   930.000000   930.000000   930.000000    930.000000   \n",
       "mean    674.225129   247.887796   195.796462    23.579484   1111.814925   \n",
       "std     241.612164   455.176333   377.105117    74.880876   5545.313772   \n",
       "min       0.000000     0.000000     0.000000     0.000000      0.000000   \n",
       "25%     525.810000     0.000000     0.000000     0.000000      0.000000   \n",
       "50%     676.130000     0.000000     0.000000     0.000000    483.870000   \n",
       "75%     801.000000   441.980000   399.960000     0.000000    953.467500   \n",
       "max    1396.450000  2352.320000  5778.180000   264.000000  80500.000000   \n",
       "\n",
       "             temp    cisnienie  \n",
       "count  930.000000   930.000000  \n",
       "mean    14.566667  1003.152355  \n",
       "std      9.185703     8.330808  \n",
       "min     -7.000000   971.920000  \n",
       "25%      7.000000   998.250000  \n",
       "50%     14.000000  1003.250000  \n",
       "75%     22.000000  1008.590000  \n",
       "max     36.000000  1028.250000  "
      ]
     },
     "execution_count": 63,
     "metadata": {},
     "output_type": "execute_result"
    }
   ],
   "source": [
    "data.describe()"
   ]
  },
  {
   "cell_type": "code",
   "execution_count": 70,
   "metadata": {},
   "outputs": [],
   "source": [
    "X = data.drop(data.columns[[4]],axis = 1)\n",
    "y = data['traffic']"
   ]
  },
  {
   "cell_type": "markdown",
   "metadata": {},
   "source": [
    "## Define plot_learning_curve"
   ]
  },
  {
   "cell_type": "code",
   "execution_count": 65,
   "metadata": {},
   "outputs": [],
   "source": [
    "from sklearn.model_selection import learning_curve\n",
    "\n",
    "\n",
    "def plot_learning_curve(estimator, title, X, y, ylim=None, cv=None,\n",
    "                        n_jobs=1, train_sizes=np.linspace(.1, 1.0, 5)):\n",
    "    \"\"\"\n",
    "    Generate a simple plot of the test and training learning curve.\n",
    "\n",
    "    Parameters\n",
    "    ----------\n",
    "    estimator : object type that implements the \"fit\" and \"predict\" methods\n",
    "        An object of that type which is cloned for each validation.\n",
    "\n",
    "    title : string\n",
    "        Title for the chart.\n",
    "\n",
    "    X : array-like, shape (n_samples, n_features)\n",
    "        Training vector, where n_samples is the number of samples and\n",
    "        n_features is the number of features.\n",
    "\n",
    "    y : array-like, shape (n_samples) or (n_samples, n_features), optional\n",
    "        Target relative to X for classification or regression;\n",
    "        None for unsupervised learning.\n",
    "\n",
    "    ylim : tuple, shape (ymin, ymax), optional\n",
    "        Defines minimum and maximum yvalues plotted.\n",
    "\n",
    "    cv : int, cross-validation generator or an iterable, optional\n",
    "        Determines the cross-validation splitting strategy.\n",
    "        Possible inputs for cv are:\n",
    "          - None, to use the default 3-fold cross-validation,\n",
    "          - integer, to specify the number of folds.\n",
    "          - An object to be used as a cross-validation generator.\n",
    "          - An iterable yielding train/test splits.\n",
    "\n",
    "        For integer/None inputs, if ``y`` is binary or multiclass,\n",
    "        :class:`StratifiedKFold` used. If the estimator is not a classifier\n",
    "        or if ``y`` is neither binary nor multiclass, :class:`KFold` is used.\n",
    "\n",
    "        Refer :ref:`User Guide <cross_validation>` for the various\n",
    "        cross-validators that can be used here.\n",
    "\n",
    "    n_jobs : integer, optional\n",
    "        Number of jobs to run in parallel (default 1).\n",
    "    \"\"\"\n",
    "    plt.figure()\n",
    "    plt.title(title)\n",
    "    if ylim is not None:\n",
    "        plt.ylim(*ylim)\n",
    "    plt.xlabel(\"Training examples\")\n",
    "    plt.ylabel(\"Score\")\n",
    "    train_sizes, train_scores, test_scores = learning_curve(\n",
    "        estimator, X, y, cv=cv, n_jobs=n_jobs, train_sizes=train_sizes)\n",
    "    train_scores_mean = np.mean(train_scores, axis=1)\n",
    "    train_scores_std = np.std(train_scores, axis=1)\n",
    "    test_scores_mean = np.mean(test_scores, axis=1)\n",
    "    test_scores_std = np.std(test_scores, axis=1)\n",
    "    plt.grid()\n",
    "\n",
    "    plt.fill_between(train_sizes, train_scores_mean - train_scores_std,\n",
    "                     train_scores_mean + train_scores_std, alpha=0.1,\n",
    "                     color=\"r\")\n",
    "    plt.fill_between(train_sizes, test_scores_mean - test_scores_std,\n",
    "                     test_scores_mean + test_scores_std, alpha=0.1, color=\"g\")\n",
    "    plt.plot(train_sizes, train_scores_mean, 'o-', color=\"r\",\n",
    "             label=\"Training score\")\n",
    "    plt.plot(train_sizes, test_scores_mean, 'o-', color=\"g\",\n",
    "             label=\"Cross-validation score\")\n",
    "\n",
    "    plt.legend(loc=\"best\")\n",
    "    return plt\n",
    "\n"
   ]
  },
  {
   "cell_type": "markdown",
   "metadata": {},
   "source": [
    "## Linear regression model"
   ]
  },
  {
   "cell_type": "code",
   "execution_count": 64,
   "metadata": {},
   "outputs": [
    {
     "data": {
      "text/plain": [
       "<module 'matplotlib.pyplot' from 'c:\\\\users\\\\jarek\\\\appdata\\\\local\\\\programs\\\\python\\\\python36\\\\lib\\\\site-packages\\\\matplotlib\\\\pyplot.py'>"
      ]
     },
     "execution_count": 64,
     "metadata": {},
     "output_type": "execute_result"
    },
    {
     "data": {
      "image/png": "[encoded data removed]",
      "text/plain": [
       "<matplotlib.figure.Figure at 0x1d5c24ca9b0>"
      ]
     },
     "metadata": {},
     "output_type": "display_data"
    }
   ],
   "source": [
    "from sklearn.model_selection import learning_curve\n",
    "from sklearn import linear_model\n",
    "\n",
    "# Create linear regression object\n",
    "lm = linear_model.LinearRegression()\n",
    "\n",
    "# Plot Learning Curve for linear regression model\n",
    "title = \"Learning Curve lm\"\n",
    "plot_learning_curve(lm, title, X, y, ylim=None, cv=10,train_sizes=np.linspace(.2, 1.0, 10))\n"
   ]
  },
  {
   "cell_type": "code",
   "execution_count": 54,
   "metadata": {},
   "outputs": [
    {
     "data": {
      "text/plain": [
       "0.35566263392235464"
      ]
     },
     "execution_count": 54,
     "metadata": {},
     "output_type": "execute_result"
    }
   ],
   "source": [
    "lm.score(X,y)"
   ]
  },
  {
   "cell_type": "markdown",
   "metadata": {},
   "source": [
    "## Random forest model"
   ]
  },
  {
   "cell_type": "code",
   "execution_count": 66,
   "metadata": {},
   "outputs": [
    {
     "data": {
      "text/plain": [
       "<module 'matplotlib.pyplot' from 'c:\\\\users\\\\jarek\\\\appdata\\\\local\\\\programs\\\\python\\\\python36\\\\lib\\\\site-packages\\\\matplotlib\\\\pyplot.py'>"
      ]
     },
     "execution_count": 66,
     "metadata": {},
     "output_type": "execute_result"
    },
    {
     "data": {
      "image/png": "[encoded data removed]",
      "text/plain": [
       "<matplotlib.figure.Figure at 0x1d5c23d7080>"
      ]
     },
     "metadata": {},
     "output_type": "display_data"
    }
   ],
   "source": [
    "from sklearn.ensemble import RandomForestRegressor\n",
    "\n",
    "rf = RandomForestRegressor(max_depth=2, random_state = 0)\n",
    "\n",
    "title = \"Learning Curve Random Forest\"\n",
    "\n",
    "plot_learning_curve(rf, title, X, y, ylim=None, cv=10,train_sizes=np.linspace(.2, 1.0, 10))\n"
   ]
  },
  {
   "cell_type": "code",
   "execution_count": 72,
   "metadata": {},
   "outputs": [
    {
     "data": {
      "text/plain": [
       "0.61834271207752933"
      ]
     },
     "execution_count": 72,
     "metadata": {},
     "output_type": "execute_result"
    }
   ],
   "source": [
    "rf.fit(X,y)\n",
    "rf.score(X,y)"
   ]
  },
  {
   "cell_type": "code",
   "execution_count": 69,
   "metadata": {},
   "outputs": [
    {
     "data": {
      "text/plain": [
       "<module 'matplotlib.pyplot' from 'c:\\\\users\\\\jarek\\\\appdata\\\\local\\\\programs\\\\python\\\\python36\\\\lib\\\\site-packages\\\\matplotlib\\\\pyplot.py'>"
      ]
     },
     "execution_count": 69,
     "metadata": {},
     "output_type": "execute_result"
    },
    {
     "data": {
      "image/png": "[encoded data removed]",
      "text/plain": [
       "<matplotlib.figure.Figure at 0x1d5c2377518>"
      ]
     },
     "metadata": {},
     "output_type": "display_data"
    }
   ],
   "source": [
    "rf2 = RandomForestRegressor(max_depth=5, random_state = 0)\n",
    "\n",
    "title = \"Learning Curve Random Forest\"\n",
    "\n",
    "plot_learning_curve(rf2, title, X, y, ylim=None, cv=10,train_sizes=np.linspace(.2, 1.0, 10))"
   ]
  },
  {
   "cell_type": "code",
   "execution_count": 73,
   "metadata": {},
   "outputs": [
    {
     "data": {
      "text/plain": [
       "0.84779132191509843"
      ]
     },
     "execution_count": 73,
     "metadata": {},
     "output_type": "execute_result"
    }
   ],
   "source": [
    "rf2.fit(X,y)\n",
    "rf2.score(X,y)"
   ]
  }
 ],
 "metadata": {
  "kernelspec": {
   "display_name": "Python 3",
   "language": "python",
   "name": "python3"
  },
  "language_info": {
   "codemirror_mode": {
    "name": "ipython",
    "version": 3
   },
   "file_extension": ".py",
   "mimetype": "text/x-python",
   "name": "python",
   "nbconvert_exporter": "python",
   "pygments_lexer": "ipython3",
   "version": "3.6.3"
  }
 },
 "nbformat": 4,
 "nbformat_minor": 2
}
